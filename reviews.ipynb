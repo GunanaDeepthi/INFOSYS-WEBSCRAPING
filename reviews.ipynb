{
  "nbformat": 4,
  "nbformat_minor": 0,
  "metadata": {
    "colab": {
      "provenance": [],
      "authorship_tag": "ABX9TyPjYxD2GYcjqaotJZXlh8Rf",
      "include_colab_link": true
    },
    "kernelspec": {
      "name": "python3",
      "display_name": "Python 3"
    },
    "language_info": {
      "name": "python"
    }
  },
  "cells": [
    {
      "cell_type": "markdown",
      "metadata": {
        "id": "view-in-github",
        "colab_type": "text"
      },
      "source": [
        "<a href=\"https://colab.research.google.com/github/GunanaDeepthi/INFOSYS-WEBSCRAPING/blob/main/reviews.ipynb\" target=\"_parent\"><img src=\"https://colab.research.google.com/assets/colab-badge.svg\" alt=\"Open In Colab\"/></a>"
      ]
    },
    {
      "cell_type": "code",
      "source": [
        "import requests\n",
        "from bs4 import BeautifulSoup\n",
        "import pandas as pd\n",
        "\n",
        "url = \"https://www.amazon.in/dp/B0CHX3TW6X\"\n",
        "\n",
        "response = requests.get(url)\n",
        "soup = BeautifulSoup(response.content, 'html.parser')\n",
        "\n",
        "product_name = soup.find(\"h1\", class_=\"a-size-large\").text.strip()\n",
        "\n",
        "reviews = soup.find_all(\"span\", class_=\"a-size-base review-text\")\n",
        "\n",
        "review_data = [{\"Product Name\": product_name, \"Review\": review.text.strip()} for review in reviews]\n",
        "\n",
        "df = pd.DataFrame(review_data)\n",
        "df.to_csv(\"reviews.csv\", index=False)\n"
      ],
      "metadata": {
        "id": "DD4ZOtr3-tq-"
      },
      "execution_count": 3,
      "outputs": []
    },
    {
      "cell_type": "code",
      "source": [
        "import pandas as pd\n",
        "data = pd.read_csv(\"reviews.csv\")\n",
        "print(data.head())"
      ],
      "metadata": {
        "colab": {
          "base_uri": "https://localhost:8080/"
        },
        "id": "MB8vRLgKLsLw",
        "outputId": "81cd9248-9f23-4e80-f9f8-b1cac7f48a34"
      },
      "execution_count": 4,
      "outputs": [
        {
          "output_type": "stream",
          "name": "stdout",
          "text": [
            "                      Product Name  \\\n",
            "0  Apple iPhone 15 (128 GB) - Pink   \n",
            "1  Apple iPhone 15 (128 GB) - Pink   \n",
            "2  Apple iPhone 15 (128 GB) - Pink   \n",
            "3  Apple iPhone 15 (128 GB) - Pink   \n",
            "4  Apple iPhone 15 (128 GB) - Pink   \n",
            "\n",
            "                                              Review  \n",
            "0  DesignOne of the most noticeable changes to th...  \n",
            "1  Fast Charging.It is very smooth.sound is boost...  \n",
            "2  The pink iphone 15 has very classic baby pink ...  \n",
            "3             Apple product at best price\\nRead more  \n",
            "4  Just made the transition and here’s my POV on ...  \n"
          ]
        }
      ]
    }
  ]
}