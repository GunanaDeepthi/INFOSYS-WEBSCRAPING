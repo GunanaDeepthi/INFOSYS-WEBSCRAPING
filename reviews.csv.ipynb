{
  "nbformat": 4,
  "nbformat_minor": 0,
  "metadata": {
    "colab": {
      "provenance": [],
      "authorship_tag": "ABX9TyOSOaEHnGGJoaHDFUtIPlXG",
      "include_colab_link": true
    },
    "kernelspec": {
      "name": "python3",
      "display_name": "Python 3"
    },
    "language_info": {
      "name": "python"
    }
  },
  "cells": [
    {
      "cell_type": "markdown",
      "metadata": {
        "id": "view-in-github",
        "colab_type": "text"
      },
      "source": [
        "<a href=\"https://colab.research.google.com/github/GunanaDeepthi/INFOSYS-WEBSCRAPING/blob/main/reviews.csv.ipynb\" target=\"_parent\"><img src=\"https://colab.research.google.com/assets/colab-badge.svg\" alt=\"Open In Colab\"/></a>"
      ]
    },
    {
      "cell_type": "code",
      "source": [
        "import requests\n",
        "from bs4 import BeautifulSoup\n",
        "import pandas as pd\n",
        "\n",
        "url = \"https://www.amazon.in/dp/B0CHX3TW6X\"\n",
        "\n",
        "response = requests.get(url)\n",
        "soup = BeautifulSoup(response.content, 'html.parser')\n",
        "\n",
        "product_name = soup.find(\"h1\", class_=\"a-size-large\").text.strip()\n",
        "\n",
        "reviews = soup.find_all(\"span\", class_=\"a-size-base review-text\")\n",
        "\n",
        "review_data = [{\"Product Name\": product_name, \"Review\": review.text.strip()} for review in reviews]\n",
        "\n",
        "df = pd.DataFrame(review_data)\n",
        "df.to_csv(\"reviews.csv\", index=False)\n"
      ],
      "metadata": {
        "id": "DD4ZOtr3-tq-"
      },
      "execution_count": 3,
      "outputs": []
    }
  ]
}