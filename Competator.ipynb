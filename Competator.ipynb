{
  "nbformat": 4,
  "nbformat_minor": 0,
  "metadata": {
    "colab": {
      "provenance": [],
      "authorship_tag": "ABX9TyNqeb5U1l737pE7TrqNkwgM",
      "include_colab_link": true
    },
    "kernelspec": {
      "name": "python3",
      "display_name": "Python 3"
    },
    "language_info": {
      "name": "python"
    }
  },
  "cells": [
    {
      "cell_type": "markdown",
      "metadata": {
        "id": "view-in-github",
        "colab_type": "text"
      },
      "source": [
        "<a href=\"https://colab.research.google.com/github/GunanaDeepthi/INFOSYS-WEBSCRAPING/blob/main/Competator.ipynb\" target=\"_parent\"><img src=\"https://colab.research.google.com/assets/colab-badge.svg\" alt=\"Open In Colab\"/></a>"
      ]
    },
    {
      "cell_type": "code",
      "source": [
        "import requests\n",
        "from bs4 import BeautifulSoup\n",
        "import pandas as pd\n",
        "import os\n",
        "from datetime import datetime\n",
        "\n",
        "# Replace with the correct URL for iPhone 15\n",
        "url = \"https://www.amazon.in/dp/B0CHX3TW6X\"\n",
        "\n",
        "headers = {\n",
        "    \"User-Agent\": \"Mozilla/5.0 (Windows NT 10.0; Win64; x64) AppleWebKit/537.36 (KHTML, like Gecko) Chrome/112.0.0.0 Safari/537.36\",\n",
        "    \"Accept-Language\": \"en-US,en;q=0.9\"\n",
        "}\n",
        "\n",
        "response = requests.get(url, headers=headers)\n",
        "soup = BeautifulSoup(response.content, 'html.parser')\n",
        "\n",
        "# Extract product name\n",
        "product_name_tag = soup.find(\"span\", {\"id\": \"productTitle\"})\n",
        "product_name = product_name_tag.text.strip() if product_name_tag else \"Apple iPhone 15\"\n",
        "\n",
        "# Extract price\n",
        "price_tag = soup.find(\"span\", {\"class\": \"a-price-whole\"})\n",
        "price = price_tag.text.strip() if price_tag else \"Price not found\"\n",
        "\n",
        "# Extract discount (if available)\n",
        "discount_tag = soup.find(\"span\", {\"class\": \"a-color-price\"})\n",
        "discount = discount_tag.text.strip() if discount_tag else \"No discount\"\n",
        "\n",
        "# Get the current date\n",
        "current_date = datetime.today().strftime('%Y-%m-%d')\n",
        "\n",
        "# Create a DataFrame with new data\n",
        "new_data = pd.DataFrame({\n",
        "    \"Product Name\": [product_name],\n",
        "    \"Price\": [price],\n",
        "    \"Discount\": [discount],\n",
        "    \"Date\": [current_date]\n",
        "})\n",
        "\n",
        "# CSV file name\n",
        "csv_file = \"competitor.csv\"\n",
        "\n",
        "# Append new data to the CSV file if it exists\n",
        "if os.path.exists(csv_file):\n",
        "    existing_data = pd.read_csv(csv_file)\n",
        "    updated_data = pd.concat([existing_data, new_data], ignore_index=True)\n",
        "    updated_data.to_csv(csv_file, index=False)\n",
        "else:\n",
        "    new_data.to_csv(csv_file, index=False)\n",
        "\n",
        "print(\"Data extracted and saved to competitor.csv\")\n"
      ],
      "metadata": {
        "colab": {
          "base_uri": "https://localhost:8080/"
        },
        "id": "XOyE44pIRVe4",
        "outputId": "81ebc98c-6514-4bb1-df7d-4a2a26af39c2"
      },
      "execution_count": 11,
      "outputs": [
        {
          "output_type": "stream",
          "name": "stdout",
          "text": [
            "Data extracted and saved to competitor.csv\n"
          ]
        }
      ]
    },
    {
      "cell_type": "code",
      "source": [
        "import pandas as pd\n",
        "data = pd.read_csv(\"competitor.csv\")\n",
        "print(data.head())"
      ],
      "metadata": {
        "colab": {
          "base_uri": "https://localhost:8080/"
        },
        "id": "exQchOczRb4-",
        "outputId": "b57da9af-a424-4fff-9617-c9d42e74e9b9"
      },
      "execution_count": 12,
      "outputs": [
        {
          "output_type": "stream",
          "name": "stdout",
          "text": [
            "                      Product Name            Price                Discount  \\\n",
            "0  Apple iPhone 15 (128 GB) - Pink  Price not found  Currently unavailable.   \n",
            "1  Apple iPhone 15 (128 GB) - Pink          59,999.  Up to    22,800.00 off   \n",
            "2  Apple iPhone 15 (128 GB) - Pink          59,999.  Up to    22,800.00 off   \n",
            "3  Apple iPhone 15 (128 GB) - Pink          59,999.  Up to    22,800.00 off   \n",
            "4  Apple iPhone 15 (128 GB) - Pink          59,999.  Up to    22,800.00 off   \n",
            "\n",
            "            Date  \n",
            "0  Not available  \n",
            "1     2025-01-28  \n",
            "2     2025-01-28  \n",
            "3     2025-01-28  \n",
            "4     2025-01-28  \n"
          ]
        }
      ]
    },
    {
      "cell_type": "code",
      "source": [],
      "metadata": {
        "id": "Z3oQeaEKR6M_"
      },
      "execution_count": null,
      "outputs": []
    }
  ]
}